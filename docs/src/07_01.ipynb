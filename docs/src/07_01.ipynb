{
 "cells": [
  {
   "cell_type": "markdown",
   "metadata": {},
   "source": [
    "# OR-Tools"
   ]
  },
  {
   "cell_type": "markdown",
   "metadata": {},
   "source": [
    "https://developers.google.com/optimization/introduction/overview"
   ]
  }
 ],
 "metadata": {
  "kernelspec": {
   "display_name": "Python 3.8.8 64-bit ('shims': pyenv)",
   "language": "python",
   "name": "python3"
  },
  "language_info": {
   "name": "python",
   "version": "3.8.8"
  },
  "vscode": {
   "interpreter": {
    "hash": "665f832a45f3126efc98ffa735ac66f07b585d6a340bb54137cad910b65214da"
   }
  }
 },
 "nbformat": 4,
 "nbformat_minor": 2
}
